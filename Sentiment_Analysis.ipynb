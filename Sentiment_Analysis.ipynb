{
 "cells": [
  {
   "cell_type": "markdown",
   "metadata": {},
   "source": [
    "#Sentiment Analysis using TextBlob"
   ]
  },
  {
   "cell_type": "markdown",
   "metadata": {},
   "source": [
    "###Importing Libraries"
   ]
  },
  {
   "cell_type": "code",
   "execution_count": 2,
   "metadata": {
    "pycharm": {
     "is_executing": false
    }
   },
   "outputs": [],
   "source": [
    "import re\n",
    "import pandas as pd\n",
    "import ast\n",
    "import json\n",
    "from nltk import tokenize\n",
    "from textblob import TextBlob"
   ]
  },
  {
   "cell_type": "markdown",
   "metadata": {},
   "source": [
    "###Defining Split into Phrases function"
   ]
  },
  {
   "cell_type": "code",
   "execution_count": 29,
   "metadata": {
    "pycharm": {
     "is_executing": false,
     "name": "#%%\n"
    }
   },
   "outputs": [],
   "source": [
    "alphabets= \"([A-Za-z])\"\n",
    "prefixes = \"(Mr|St|Mrs|Ms|Dr)[.]\"\n",
    "suffixes = \"(Inc|Ltd|Jr|Sr|Co)\"\n",
    "starters = \"(Mr|Mrs|Ms|Dr|He\\s|She\\s|It\\s|They\\s|Their\\s|Our\\s|We\\s|But\\s|However\\s|That\\s|This\\s|Wherever)\"\n",
    "acronyms = \"([A-Z][.][A-Z][.](?:[A-Z][.])?)\"\n",
    "websites = \"[.](com|net|org|io|gov)\"\n",
    "\n",
    "def split_into_sentences(text):\n",
    "    text = \" \" + text + \"  \"\n",
    "    text = text.replace(\"\\n\",\" \")\n",
    "    text = re.sub(prefixes,\"\\\\1<prd>\",text)\n",
    "    text = re.sub(websites,\"<prd>\\\\1\",text)\n",
    "    if \"Ph.D\" in text: text = text.replace(\"Ph.D.\",\"Ph<prd>D<prd>\")\n",
    "    text = re.sub(\"\\s\" + alphabets + \"[.] \",\" \\\\1<prd> \",text)\n",
    "    text = re.sub(acronyms+\" \"+starters,\"\\\\1<stop> \\\\2\",text)\n",
    "    text = re.sub(alphabets + \"[.]\" + alphabets + \"[.]\" + alphabets + \"[.]\",\"\\\\1<prd>\\\\2<prd>\\\\3<prd>\",text)\n",
    "    text = re.sub(alphabets + \"[.]\" + alphabets + \"[.]\",\"\\\\1<prd>\\\\2<prd>\",text)\n",
    "    text = re.sub(\" \"+suffixes+\"[.] \"+starters,\" \\\\1<stop> \\\\2\",text)\n",
    "    text = re.sub(\" \"+suffixes+\"[.]\",\" \\\\1<prd>\",text)\n",
    "    text = re.sub(\" \" + alphabets + \"[.]\",\" \\\\1<prd>\",text)\n",
    "    if \"”\" in text: text = text.replace(\".”\",\"”.\")\n",
    "    if \"\\\"\" in text: text = text.replace(\".\\\"\",\"\\\".\")\n",
    "    if \"!\" in text: text = text.replace(\"!\\\"\",\"\\\"!\")\n",
    "    if \"?\" in text: text = text.replace(\"?\\\"\",\"\\\"?\")\n",
    "    text = text.replace(\".\",\".<stop>\")\n",
    "    text = text.replace(\"?\",\"?<stop>\")\n",
    "    text = text.replace(\"!\",\"!<stop>\")\n",
    "    text = text.replace(\"<prd>\",\".\")\n",
    "    sentences = text.split(\"<stop>\")\n",
    "    sentences = sentences[:-1]\n",
    "    sentences = [s.strip() for s in sentences]\n",
    "    return sentences"
   ]
  },
  {
   "cell_type": "markdown",
   "metadata": {},
   "source": [
    "###Reading Dataset"
   ]
  },
  {
   "cell_type": "code",
   "execution_count": 24,
   "metadata": {
    "pycharm": {
     "is_executing": false,
     "name": "#%%\n"
    }
   },
   "outputs": [
    {
     "name": "stdout",
     "output_type": "stream",
     "text": [
      "<class 'pandas.core.frame.DataFrame'>\n",
      "RangeIndex: 840 entries, 0 to 839\n",
      "Data columns (total 8 columns):\n",
      "DoctorName             840 non-null object\n",
      "Age                    839 non-null float64\n",
      "Affiliated Hospital    839 non-null object\n",
      "Gender                 840 non-null object\n",
      "Education              834 non-null object\n",
      "Experience             840 non-null int64\n",
      "Rating                 840 non-null float64\n",
      "Reviews                840 non-null object\n",
      "dtypes: float64(2), int64(1), object(5)\n",
      "memory usage: 52.6+ KB\n"
     ]
    }
   ],
   "source": [
    "ratemd=pd.read_csv(r'/Users/sangh/Desktop/Final Project/Healthgrades/All_Healthgrades_v3.csv')\n",
    "ratemd.info()"
   ]
  },
  {
   "cell_type": "code",
   "execution_count": 214,
   "metadata": {
    "scrolled": true
   },
   "outputs": [],
   "source": [
    "#Concatenating all reviews for each physician\n",
    "ratemd[\"Single_review\"] = ratemd[\"Doctor_reviews\"].to_list()"
   ]
  },
  {
   "cell_type": "code",
   "execution_count": 309,
   "metadata": {},
   "outputs": [],
   "source": [
    "sentrm=[]\n",
    "doc_names = []\n",
    "star_rating = []\n",
    "gender = []\n",
    "hos_affil = []\n",
    "nr1,nc1=ratemd.shape\n",
    "\n",
    "for j in range(nr1):\n",
    "    name = ratemd.iloc[j,0]\n",
    "    t1=ratemd.iloc[j,7]\n",
    "    t1 = t1.strip(\"][\").split(\",\")\n",
    "    for x in range(len(t1)):\n",
    "        x_sent = t1[x]\n",
    "        sentrm.append(x_sent)\n",
    "        doc_names.append(name)       "
   ]
  },
  {
   "cell_type": "code",
   "execution_count": 310,
   "metadata": {},
   "outputs": [
    {
     "data": {
      "text/plain": [
       "10424"
      ]
     },
     "execution_count": 310,
     "metadata": {},
     "output_type": "execute_result"
    }
   ],
   "source": [
    "len(sentrm)"
   ]
  },
  {
   "cell_type": "code",
   "execution_count": 311,
   "metadata": {},
   "outputs": [],
   "source": [
    "de = {\"Doc_names\":doc_names, \"Review_phrases\":sentrm}\n",
    "df = pd.DataFrame(de)"
   ]
  },
  {
   "cell_type": "code",
   "execution_count": 313,
   "metadata": {},
   "outputs": [
    {
     "data": {
      "text/plain": [
       "(10424, 2)"
      ]
     },
     "execution_count": 313,
     "metadata": {},
     "output_type": "execute_result"
    }
   ],
   "source": [
    "df.shape"
   ]
  },
  {
   "cell_type": "code",
   "execution_count": 169,
   "metadata": {
    "pycharm": {
     "is_executing": false,
     "name": "#%%\n"
    }
   },
   "outputs": [],
   "source": [
    "ratemd.to_excel(r'/Users/sujaikarunakaran/Desktop/Assignments/Spring 2020/Ranga/Final Project/Ratemds - Illinois/New/complete_data_sentences_withbut.xlsx',header=False)"
   ]
  },
  {
   "cell_type": "code",
   "execution_count": 69,
   "metadata": {},
   "outputs": [],
   "source": [
    "#pip install vaderSentiment\n",
    "#from vaderSentiment.vaderSentiment import SentimentIntensityAnalyzer\n",
    "#analyser1 = SentimentIntensityAnalyzer()\n",
    "#def sentiment_analyzer_scores(sentence):\n",
    "#    score = analyser1.polarity_scores(sentence)\n",
    "    #print(\"{:-<40} {}\".format(sentence, str(score)))\n",
    "#    print(score)\n",
    "#    if score['compound']>0.05:\n",
    "#        return \"Positive\"   \n",
    "#    elif score['compound']<-0.05:       \n",
    "#        return \"Negative\"    \n",
    "#    else:       \n",
    "#        return \"Neutral\""
   ]
  },
  {
   "cell_type": "code",
   "execution_count": 71,
   "metadata": {},
   "outputs": [
    {
     "name": "stdout",
     "output_type": "stream",
     "text": [
      "{'neg': 0.162, 'neu': 0.838, 'pos': 0.0, 'compound': -0.4676}\n"
     ]
    },
    {
     "data": {
      "text/plain": [
       "'Negative'"
      ]
     },
     "execution_count": 71,
     "metadata": {},
     "output_type": "execute_result"
    }
   ],
   "source": [
    "txt = \"he not only loves to bring new life into the world but dr. drachler is seriously concerned about the quality of our lives\"\n",
    "sentiment_analyzer_scores(txt)"
   ]
  },
  {
   "cell_type": "markdown",
   "metadata": {},
   "source": [
    "### Defining Sentiment Analyser function using TextBlob"
   ]
  },
  {
   "cell_type": "code",
   "execution_count": 25,
   "metadata": {},
   "outputs": [],
   "source": [
    "#Function to determine the sentiment of the sentence\n",
    "i=[]\n",
    "j=[]\n",
    "k=[]\n",
    "\n",
    "def sentiment_analyser(text):\n",
    "    analysis = TextBlob(text)\n",
    "    if analysis.sentiment[0]>0:\n",
    "        i.append(1)\n",
    "        #return \"Positive\"   \n",
    "        return analysis.sentiment[0]\n",
    "    elif analysis.sentiment[0]<0:       \n",
    "        j.append(1)\n",
    "        #return \"Negative\"    \n",
    "        return analysis.sentiment[0]\n",
    "    else:       \n",
    "        k.append(1)\n",
    "        #return \"Neutral\"\n",
    "        return analysis.sentiment[0]"
   ]
  },
  {
   "cell_type": "code",
   "execution_count": 177,
   "metadata": {},
   "outputs": [],
   "source": [
    "nr1,nc1=df.shape"
   ]
  },
  {
   "cell_type": "code",
   "execution_count": 67,
   "metadata": {},
   "outputs": [],
   "source": [
    "#function to take all the sentences, identify sentiment and provide a dictionary with key as sentence and value as sentiment\n",
    "def sentence_sentiment(df):\n",
    "    main_list = []\n",
    "    nr1,nc1 = df.shape\n",
    "    for j in range(nr1):\n",
    "        t1=ratemd.iloc[j,2]\n",
    "        sub_list = []\n",
    "        for x in range(len(t1)):\n",
    "            d = {}\n",
    "            senti = sentiment_analyser(t1[x])\n",
    "            d[t1[x]] = senti\n",
    "            for f in d.copy():\n",
    "                if d[f] == 'Neutral':\n",
    "                    d.pop(f)\n",
    "            sub_list.append(d)\n",
    "        main_list.append(sub_list)\n",
    "    return main_list"
   ]
  },
  {
   "cell_type": "code",
   "execution_count": 28,
   "metadata": {},
   "outputs": [],
   "source": [
    "def sentence_sentiment1(df):\n",
    "    main_list = []\n",
    "    nr1,nc1 = df.shape\n",
    "    for j in range(nr1):\n",
    "        t1=df.iloc[j,7]\n",
    "        senti = sentiment_analyser(t1)\n",
    "        main_list.append(senti)\n",
    "    return main_list"
   ]
  },
  {
   "cell_type": "code",
   "execution_count": 29,
   "metadata": {
    "scrolled": true
   },
   "outputs": [],
   "source": [
    "sentiment = sentence_sentiment1(ratemd)"
   ]
  },
  {
   "cell_type": "code",
   "execution_count": 30,
   "metadata": {
    "scrolled": true
   },
   "outputs": [
    {
     "data": {
      "text/plain": [
       "840"
      ]
     },
     "execution_count": 30,
     "metadata": {},
     "output_type": "execute_result"
    }
   ],
   "source": [
    "len(sentiment)"
   ]
  },
  {
   "cell_type": "code",
   "execution_count": 129,
   "metadata": {},
   "outputs": [],
   "source": [
    "for x in range(len(sentiment)): \n",
    "    q = sentiment[x]\n",
    "    for a in range(len(q)):\n",
    "        sent = q[a]\n",
    "        for f in sent.keys():\n",
    "            if sent[f] == 'Neutral':\n",
    "                del(sent[f])"
   ]
  },
  {
   "cell_type": "code",
   "execution_count": 131,
   "metadata": {},
   "outputs": [],
   "source": [
    "for x in range(len(sentiment)): \n",
    "    q = sentiment[x]\n",
    "    for a in range(len(q)):\n",
    "        sent = q[a]\n",
    "        for f in sent.copy():\n",
    "            if not sent[f]:\n",
    "                sent.pop(f)"
   ]
  },
  {
   "cell_type": "code",
   "execution_count": 156,
   "metadata": {},
   "outputs": [
    {
     "data": {
      "text/plain": [
       "<filter at 0x1a11aa19e8>"
      ]
     },
     "execution_count": 156,
     "metadata": {},
     "output_type": "execute_result"
    }
   ],
   "source": [
    "filter(None, sentiment)"
   ]
  },
  {
   "cell_type": "code",
   "execution_count": 31,
   "metadata": {},
   "outputs": [
    {
     "name": "stdout",
     "output_type": "stream",
     "text": [
      "832\n",
      "254\n",
      "270\n"
     ]
    }
   ],
   "source": [
    "len(sentiment)\n",
    "print(len(i))\n",
    "print(len(j))\n",
    "print(len(k))"
   ]
  },
  {
   "cell_type": "code",
   "execution_count": 32,
   "metadata": {},
   "outputs": [],
   "source": [
    "ratemd['Whole_Sentiment']=sentiment"
   ]
  },
  {
   "cell_type": "code",
   "execution_count": 122,
   "metadata": {},
   "outputs": [],
   "source": [
    "df = df[df.Sentiment != \"Neutral\"]"
   ]
  },
  {
   "cell_type": "code",
   "execution_count": 320,
   "metadata": {},
   "outputs": [],
   "source": [
    "sent = []\n",
    "for x in range(len(df[\"Sentiment\"])):\n",
    "    if df[\"Sentiment\"][x] > 0:\n",
    "        sent.append(\"Positive\")\n",
    "    elif df[\"Sentiment\"][x] < 0:\n",
    "        sent.append(\"Negative\")\n",
    "    else:\n",
    "        sent.append(\"Neutral\")\n",
    "    "
   ]
  },
  {
   "cell_type": "code",
   "execution_count": 250,
   "metadata": {},
   "outputs": [
    {
     "data": {
      "text/plain": [
       "6621"
      ]
     },
     "execution_count": 250,
     "metadata": {},
     "output_type": "execute_result"
    }
   ],
   "source": [
    "len(sent)"
   ]
  },
  {
   "cell_type": "code",
   "execution_count": 321,
   "metadata": {},
   "outputs": [],
   "source": [
    "df[\"sent\"] = sent"
   ]
  },
  {
   "cell_type": "code",
   "execution_count": 126,
   "metadata": {},
   "outputs": [],
   "source": [
    "df_negative.to_csv(r'/Users/sangh/Desktop/Final Project/RateMds/Phrases_Negative.csv', header=True, index=False)\n",
    "df_positive.to_csv(r'/Users/sangha/Desktop/Final Project/RateMds/Phrases_Positive.csv', header=True, index=False)"
   ]
  }
 ],
 "metadata": {
  "kernelspec": {
   "display_name": "Python 3",
   "language": "python",
   "name": "python3"
  },
  "language_info": {
   "codemirror_mode": {
    "name": "ipython",
    "version": 3
   },
   "file_extension": ".py",
   "mimetype": "text/x-python",
   "name": "python",
   "nbconvert_exporter": "python",
   "pygments_lexer": "ipython3",
   "version": "3.8.5"
  },
  "pycharm": {
   "stem_cell": {
    "cell_type": "raw",
    "metadata": {
     "collapsed": false
    },
    "source": []
   }
  }
 },
 "nbformat": 4,
 "nbformat_minor": 1
}
